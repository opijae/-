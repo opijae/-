{
 "cells": [
  {
   "cell_type": "code",
   "execution_count": 3,
   "id": "adequate-tiffany",
   "metadata": {},
   "outputs": [],
   "source": [
    "import numpy as np"
   ]
  },
  {
   "cell_type": "code",
   "execution_count": 4,
   "id": "selected-detail",
   "metadata": {
    "scrolled": false
   },
   "outputs": [
    {
     "name": "stdout",
     "output_type": "stream",
     "text": [
      "3*3 단위 행렬\n",
      "[[1. 0. 0.]\n",
      " [0. 1. 0.]\n",
      " [0. 0. 1.]]\n",
      "\n",
      "3*5 단위 행렬\n",
      "[[1. 0. 0. 0. 0.]\n",
      " [0. 1. 0. 0. 0.]\n",
      " [0. 0. 1. 0. 0.]]\n",
      "\n",
      "3*5 단위 행렬 시작점이 1\n",
      "[[0. 1. 0. 0. 0.]\n",
      " [0. 0. 1. 0. 0.]\n",
      " [0. 0. 0. 1. 0.]]\n",
      "\n",
      "3*5 단위 행렬 시작점이 -1\n",
      "[[0. 0. 0. 0. 0.]\n",
      " [1. 0. 0. 0. 0.]\n",
      " [0. 1. 0. 0. 0.]]\n",
      "\n"
     ]
    }
   ],
   "source": [
    "# 단위 행렬 만등기\n",
    "print('3*3 단위 행렬')\n",
    "print(np.eye(3),end='\\n\\n')\n",
    "print('3*5 단위 행렬')\n",
    "print(np.eye(3,5),end='\\n\\n')\n",
    "print('3*5 단위 행렬 시작점이 1')\n",
    "print(np.eye(3,5,1),end='\\n\\n')\n",
    "print('3*5 단위 행렬 시작점이 -1')\n",
    "print(np.eye(3,5,-1),end='\\n\\n')"
   ]
  },
  {
   "cell_type": "code",
   "execution_count": 5,
   "id": "quick-middle",
   "metadata": {},
   "outputs": [
    {
     "data": {
      "text/plain": [
       "array([ 0. ,  0.5,  1. ,  1.5,  2. ,  2.5,  3. ,  3.5,  4. ,  4.5,  5. ,\n",
       "        5.5,  6. ,  6.5,  7. ,  7.5,  8. ,  8.5,  9. ,  9.5, 10. , 10.5,\n",
       "       11. , 11.5])"
      ]
     },
     "execution_count": 5,
     "metadata": {},
     "output_type": "execute_result"
    }
   ],
   "source": [
    "# numpy.arange([start, ]stop, [step, ]dtype=None)\n",
    "np.arange(12,step=0.5) # 0~12 까지의 1차원 벡터 생서"
   ]
  },
  {
   "cell_type": "code",
   "execution_count": 6,
   "id": "native-florida",
   "metadata": {},
   "outputs": [
    {
     "name": "stdout",
     "output_type": "stream",
     "text": [
      "[[ 0  1  2  3  4  5]\n",
      " [ 6  7  8  9 10 11]\n",
      " [12 13 14 15 16 17]\n",
      " [18 19 20 21 22 23]]\n"
     ]
    }
   ],
   "source": [
    "mat=np.arange(24).reshape(4,6) # 4 행 6열 행렬 만들기\n",
    "print(mat)"
   ]
  },
  {
   "cell_type": "code",
   "execution_count": 7,
   "id": "coated-checklist",
   "metadata": {},
   "outputs": [
    {
     "name": "stdout",
     "output_type": "stream",
     "text": [
      "[ 1  8 15 22] \n",
      "\n",
      "\n",
      "[ 6 13 20]\n"
     ]
    }
   ],
   "source": [
    "print(np.diag(mat,1),'\\n\\n')\n",
    "print(np.diag(mat,-1))"
   ]
  },
  {
   "cell_type": "code",
   "execution_count": 8,
   "id": "colonial-terrorist",
   "metadata": {},
   "outputs": [
    {
     "data": {
      "text/plain": [
       "array([-1.17144561,  1.11520642, -0.18120962, -1.59330844, -0.61317484,\n",
       "        0.17286971,  0.61489504, -0.63987275,  0.97991396, -0.75923481])"
      ]
     },
     "execution_count": 8,
     "metadata": {},
     "output_type": "execute_result"
    }
   ],
   "source": [
    "#https://numpy.org/doc/1.19/search.html?q=random&check_keywords=yes&area=default\n",
    "# np.random.원하는 분포 선택 가능\n",
    "np.random.normal(0,1,10)"
   ]
  },
  {
   "cell_type": "markdown",
   "id": "unsigned-wilson",
   "metadata": {},
   "source": [
    "axis\n",
    "\n",
    "1 차원 axis가 하나만 존재 only axis=0\n",
    "\n",
    "<h3>---------------------------------- -> axis=0</h3>\n",
    "\n",
    "1 차원에서 2차원으로 가면서 기존 axis ++ \n",
    "즉, 가로(행)이 axis 1이 된다.\n",
    "\n",
    "2 차원 행들이 모여 열이 생김  axis=1 행 axis=0 열\n",
    "\n",
    "2 차원에서 3차원으로 가면서 기존 axis ++\n",
    "\n",
    "<h3>----------------------------------  -> axis=1 기존 축 +1</h3> \n",
    "<h3>-</h3>\n",
    "<h3>-</h3>\n",
    "<h3>-</h3>\n",
    "-> axis =0 새로운 축\n",
    "\n",
    "3 차원을 어떻게 말할지 모르겠는데 걍 행열의 집합이라 하자.\n",
    "3차원 numpy 배열은 (3,4,6) 이런 식으로 되는데\n",
    "각각 (행렬의 개수 axis=0, 각 행렬의 행의 개수 axis=1, 각 행렬의 열의 개수 axis=2) 이걸 나타낸다.\n",
    "\n",
    "<h3>----------------------------------  -> axis=1 기존 축 +1</h3> \n",
    "<h3>-</h3>\n",
    "<h3>- 　　　　　　　　　　　　　　 * n 개 즉 새로운 축 axis=0 </h3>\n",
    "<h3>-</h3>\n",
    "-> axis =1 기존 축 +1"
   ]
  },
  {
   "cell_type": "code",
   "execution_count": 9,
   "id": "inner-guest",
   "metadata": {
    "scrolled": true
   },
   "outputs": [
    {
     "name": "stdout",
     "output_type": "stream",
     "text": [
      "(24,) axis 0 = 24\n",
      "[ 0  1  2  3  4  5  6  7  8  9 10 11 12 13 14 15 16 17 18 19 20 21 22 23]\n"
     ]
    }
   ],
   "source": [
    "one_d=np.arange(24)\n",
    "print(one_d.shape, 'axis 0 = 24')\n",
    "print(one_d)"
   ]
  },
  {
   "cell_type": "code",
   "execution_count": 10,
   "id": "structural-notification",
   "metadata": {
    "scrolled": true
   },
   "outputs": [
    {
     "name": "stdout",
     "output_type": "stream",
     "text": [
      "(4, 6) axis 0 = 4 행의 개수  axis 1 = 6 열의 개수\n",
      "[[ 0  1  2  3  4  5]\n",
      " [ 6  7  8  9 10 11]\n",
      " [12 13 14 15 16 17]\n",
      " [18 19 20 21 22 23]]\n"
     ]
    }
   ],
   "source": [
    "mat=np.arange(24).reshape(4,6)\n",
    "print(mat.shape,'axis 0 = 4 행의 개수  axis 1 = 6 열의 개수')\n",
    "print(mat)"
   ]
  },
  {
   "cell_type": "code",
   "execution_count": 26,
   "id": "solid-reception",
   "metadata": {
    "scrolled": true
   },
   "outputs": [
    {
     "name": "stdout",
     "output_type": "stream",
     "text": [
      "axis=0\n",
      "[36 40 44 48 52 56]\n",
      "\n",
      "이것들의 합\n",
      "[ 0  6 12 18] , [ 1  7 13 19] , [ 2  8 14 20] , [ 3  9 15 21] , [ 4 10 16 22] , [ 5 11 17 23]\n",
      "\n",
      "                                ==                                               \n",
      "[[ 0]\n",
      " [ 6]\n",
      " [12]\n",
      " [18]]\n",
      "axis 가 0이니 axis=0 방향으로 더함\n",
      "--------------------------------------------------------------------------------------\n",
      "axis=1\n",
      "[ 15  51  87 123]\n",
      "이것들의 합\n",
      "[15] , [ 6  7  8  9 10 11] , [12 13 14 15 16 17] , [18 19 20 21 22 23]\n",
      "\n",
      "axis 가 1이니 axis=1 방향으로 더함\n"
     ]
    }
   ],
   "source": [
    "print('axis=0')\n",
    "print(mat.sum(axis=0),end='\\n\\n')\n",
    "print('이것들의 합')\n",
    "print(mat[:,0],',',mat[:,1],',',mat[:,2],',',mat[:,3],',',mat[:,4],',',mat[:,5], end='\\n\\n')\n",
    "print('                                ==                                               ')\n",
    "print(mat[:,0:1])\n",
    "print('axis 가 0이니 axis=0 방향으로 더함')\n",
    "print('--------------------------------------------------------------------------------------')\n",
    "print('axis=1')\n",
    "print(mat.sum(axis=1))\n",
    "print('이것들의 합')\n",
    "print(mat[2,3:4],',',mat[1,:],',',mat[2,:],',',mat[3,:],end='\\n\\n')\n",
    "print('axis 가 1이니 axis=1 방향으로 더함')"
   ]
  },
  {
   "cell_type": "code",
   "execution_count": 19,
   "id": "greatest-spirit",
   "metadata": {},
   "outputs": [
    {
     "data": {
      "text/plain": [
       "array([19, 20])"
      ]
     },
     "execution_count": 19,
     "metadata": {},
     "output_type": "execute_result"
    }
   ],
   "source": [
    "mat[3,1:3]"
   ]
  },
  {
   "cell_type": "code",
   "execution_count": 38,
   "id": "selective-involvement",
   "metadata": {
    "scrolled": true
   },
   "outputs": [
    {
     "name": "stdout",
     "output_type": "stream",
     "text": [
      "(2, 3, 4) axis 0 = 2 행렬의 개수 axis 1 = 3 행의 개수  axis 2 = 4 열의 개수 \n",
      "\n",
      "\n",
      "[[[ 0  1  2  3]\n",
      "  [ 4  5  6  7]\n",
      "  [ 8  9 10 11]]\n",
      "\n",
      " [[12 13 14 15]\n",
      "  [16 17 18 19]\n",
      "  [20 21 22 23]]]\n"
     ]
    }
   ],
   "source": [
    "three_d=np.arange(24).reshape(2,3,4)\n",
    "print(three_d.shape,'axis 0 = 2 행렬의 개수 axis 1 = 3 행의 개수  axis 2 = 4 열의 개수','\\n\\n')\n",
    "print(three_d)"
   ]
  },
  {
   "cell_type": "code",
   "execution_count": 52,
   "id": "unlike-comment",
   "metadata": {
    "scrolled": false
   },
   "outputs": [
    {
     "name": "stdout",
     "output_type": "stream",
     "text": [
      "axis=0\n",
      "[[12 14 16 18]\n",
      " [20 22 24 26]\n",
      " [28 30 32 34]]\n",
      "\n",
      "아래 것들의 합\n",
      "[[ 0  1  2  3]\n",
      " [12 13 14 15]]\n",
      "\n",
      "[[ 4  5  6  7]\n",
      " [16 17 18 19]]\n",
      "\n",
      "[[ 8  9 10 11]\n",
      " [20 21 22 23]]\n"
     ]
    }
   ],
   "source": [
    "print('axis=0')\n",
    "print(three_d.sum(axis=0),end='\\n\\n')\n",
    "print('아래 것들의 합')\n",
    "print(three_d[:,0],end='\\n\\n')\n",
    "print(three_d[:,1],end='\\n\\n')\n",
    "print(three_d[:,2])"
   ]
  },
  {
   "cell_type": "code",
   "execution_count": 63,
   "id": "photographic-plant",
   "metadata": {},
   "outputs": [
    {
     "name": "stdout",
     "output_type": "stream",
     "text": [
      "axis=1\n",
      "[[12 15 18 21]\n",
      " [48 51 54 57]]\n",
      "\n",
      "아래 것들의 합\n",
      "[0 4 8] [1 5 9] [ 2  6 10] [ 3  7 11]\n",
      "[12 16 20] [13 17 21] [14 18 22] [15 19 23]\n"
     ]
    }
   ],
   "source": [
    "print('axis=1')\n",
    "print(three_d.sum(axis=1),end='\\n\\n')\n",
    "print('아래 것들의 합')\n",
    "print(three_d[0,:,0],three_d[0,:,1],three_d[0,:,2],three_d[0,:,3])\n",
    "print(three_d[1,:,0],three_d[1,:,1],three_d[1,:,2],three_d[1,:,3])"
   ]
  },
  {
   "cell_type": "code",
   "execution_count": 70,
   "id": "opposed-duncan",
   "metadata": {
    "scrolled": true
   },
   "outputs": [
    {
     "name": "stdout",
     "output_type": "stream",
     "text": [
      "axis=2\n",
      "[[ 6 22 38]\n",
      " [54 70 86]]\n",
      "\n",
      "아래 것들의 합\n",
      "[0 1 2 3] [4 5 6 7] [ 8  9 10 11]\n",
      "[12 13 14 15] [16 17 18 19] [20 21 22 23]\n"
     ]
    }
   ],
   "source": [
    "print('axis=2')\n",
    "print(three_d.sum(axis=2),end='\\n\\n')\n",
    "print('아래 것들의 합')\n",
    "print(three_d[0,0,],three_d[0,1,],three_d[0,2,])\n",
    "print(three_d[1,0,],three_d[1,1,],three_d[1,2,])"
   ]
  },
  {
   "cell_type": "markdown",
   "id": "colonial-mercy",
   "metadata": {},
   "source": [
    "<h1>numpy slicing!!!!</h1>\n"
   ]
  },
  {
   "cell_type": "code",
   "execution_count": 72,
   "id": "historical-pressing",
   "metadata": {},
   "outputs": [
    {
     "data": {
      "text/plain": [
       "array([0, 1, 2, 3, 4, 5])"
      ]
     },
     "execution_count": 72,
     "metadata": {},
     "output_type": "execute_result"
    }
   ],
   "source": [
    "a=np.arange(6)\n",
    "a"
   ]
  },
  {
   "cell_type": "code",
   "execution_count": 80,
   "id": "premier-palestinian",
   "metadata": {},
   "outputs": [
    {
     "data": {
      "text/plain": [
       "2"
      ]
     },
     "execution_count": 80,
     "metadata": {},
     "output_type": "execute_result"
    }
   ],
   "source": [
    "a[2]"
   ]
  },
  {
   "cell_type": "code",
   "execution_count": 81,
   "id": "aerial-flight",
   "metadata": {},
   "outputs": [
    {
     "data": {
      "text/plain": [
       "array([[ 0,  1,  2,  3,  4,  5,  6,  7],\n",
       "       [ 8,  9, 10, 11, 12, 13, 14, 15],\n",
       "       [16, 17, 18, 19, 20, 21, 22, 23]])"
      ]
     },
     "execution_count": 81,
     "metadata": {},
     "output_type": "execute_result"
    }
   ],
   "source": [
    "b=np.arange(24).reshape(3,8)\n",
    "b"
   ]
  },
  {
   "cell_type": "code",
   "execution_count": 86,
   "id": "civil-encoding",
   "metadata": {},
   "outputs": [
    {
     "data": {
      "text/plain": [
       "array([[11, 12, 13],\n",
       "       [19, 20, 21]])"
      ]
     },
     "execution_count": 86,
     "metadata": {},
     "output_type": "execute_result"
    }
   ],
   "source": [
    "# 2차원 slicing은 [원하는 행, 원하는 열] 식이다.\n",
    "# 위 행렬에서 [[11,12,13],[19,20,21]]을 뽑아보자\n",
    "b[1:3,3:6]\n",
    "\n",
    "#해설 : 11,12,13  19,20,21은  1번 행렬, 2번 행렬에 위치해있으므로 1부터 3까지(미만) 1:3\n",
    "# 또한 각 행에서 3번째 부터 6번째까지 있으니 3:6"
   ]
  },
  {
   "cell_type": "code",
   "execution_count": 88,
   "id": "moving-heaven",
   "metadata": {},
   "outputs": [
    {
     "data": {
      "text/plain": [
       "array([ 0,  8, 16])"
      ]
     },
     "execution_count": 88,
     "metadata": {},
     "output_type": "execute_result"
    }
   ],
   "source": [
    "b[:,0] # 모든 행 , 0번째 열"
   ]
  },
  {
   "cell_type": "code",
   "execution_count": 89,
   "id": "efficient-abortion",
   "metadata": {},
   "outputs": [
    {
     "data": {
      "text/plain": [
       "array([ 8,  9, 10, 11, 12, 13, 14, 15])"
      ]
     },
     "execution_count": 89,
     "metadata": {},
     "output_type": "execute_result"
    }
   ],
   "source": [
    "b[1,:] # 첫번쨰 열 , 모든 열"
   ]
  },
  {
   "cell_type": "code",
   "execution_count": 90,
   "id": "imported-seeking",
   "metadata": {},
   "outputs": [
    {
     "data": {
      "text/plain": [
       "array([[[ 0,  1,  2,  3],\n",
       "        [ 4,  5,  6,  7],\n",
       "        [ 8,  9, 10, 11]],\n",
       "\n",
       "       [[12, 13, 14, 15],\n",
       "        [16, 17, 18, 19],\n",
       "        [20, 21, 22, 23]],\n",
       "\n",
       "       [[24, 25, 26, 27],\n",
       "        [28, 29, 30, 31],\n",
       "        [32, 33, 34, 35]]])"
      ]
     },
     "execution_count": 90,
     "metadata": {},
     "output_type": "execute_result"
    }
   ],
   "source": [
    "c=np.arange(36).reshape(3,3,4)\n",
    "c"
   ]
  },
  {
   "cell_type": "code",
   "execution_count": 91,
   "id": "apart-monthly",
   "metadata": {
    "scrolled": false
   },
   "outputs": [
    {
     "data": {
      "text/plain": [
       "array([[ 1,  5,  9],\n",
       "       [13, 17, 21],\n",
       "       [25, 29, 33]])"
      ]
     },
     "execution_count": 91,
     "metadata": {},
     "output_type": "execute_result"
    }
   ],
   "source": [
    "# 3차원 slicing은 [원하는 행렬, 원하는 행, 원하는 열]\n",
    "# 위 행렬에서 [1,5,9] [13,17,21] [25,29,33]을 뽑아 보자\n",
    "c[:,:,1] # 모든  행렬, 모든 행, 첫번째 행"
   ]
  },
  {
   "cell_type": "markdown",
   "id": "immediate-first",
   "metadata": {},
   "source": [
    "<h1> broadcasting </h1>\n",
    "알아서 잘 맞춰 준다."
   ]
  },
  {
   "cell_type": "code",
   "execution_count": 93,
   "id": "advised-aaron",
   "metadata": {},
   "outputs": [
    {
     "data": {
      "text/plain": [
       "array([[ 0,  1,  2],\n",
       "       [ 3,  4,  5],\n",
       "       [ 6,  7,  8],\n",
       "       [ 9, 10, 11]])"
      ]
     },
     "execution_count": 93,
     "metadata": {},
     "output_type": "execute_result"
    }
   ],
   "source": [
    "broad_np=np.arange(12).reshape(4,3)\n",
    "broad_np"
   ]
  },
  {
   "cell_type": "code",
   "execution_count": 94,
   "id": "nervous-course",
   "metadata": {
    "scrolled": true
   },
   "outputs": [
    {
     "data": {
      "text/plain": [
       "array([[10, 11, 12],\n",
       "       [13, 14, 15],\n",
       "       [16, 17, 18],\n",
       "       [19, 20, 21]])"
      ]
     },
     "execution_count": 94,
     "metadata": {},
     "output_type": "execute_result"
    }
   ],
   "source": [
    "broad_np+10"
   ]
  },
  {
   "cell_type": "code",
   "execution_count": 96,
   "id": "sealed-stake",
   "metadata": {
    "scrolled": true
   },
   "outputs": [
    {
     "data": {
      "text/plain": [
       "array([[10, 11, 12],\n",
       "       [13, 14, 15],\n",
       "       [16, 17, 18],\n",
       "       [19, 20, 21]])"
      ]
     },
     "execution_count": 96,
     "metadata": {},
     "output_type": "execute_result"
    }
   ],
   "source": [
    "broad_np+np.array([10,10,10])"
   ]
  },
  {
   "cell_type": "markdown",
   "id": "artistic-blend",
   "metadata": {},
   "source": [
    "<h1>np.where</h1>\n",
    "\n",
    "sql where 처럼 조건에 맞는 값 뽑아오기"
   ]
  },
  {
   "cell_type": "code",
   "execution_count": 98,
   "id": "changing-cyprus",
   "metadata": {
    "scrolled": false
   },
   "outputs": [
    {
     "data": {
      "text/plain": [
       "array([ 0,  1,  2,  3,  4,  5,  6,  7,  8,  9, 10, 11])"
      ]
     },
     "execution_count": 98,
     "metadata": {},
     "output_type": "execute_result"
    }
   ],
   "source": [
    "where_np=np.arange(12)\n",
    "where_np"
   ]
  },
  {
   "cell_type": "code",
   "execution_count": 99,
   "id": "racial-legislature",
   "metadata": {
    "scrolled": false
   },
   "outputs": [
    {
     "data": {
      "text/plain": [
       "array([-100, -100, -100, -100, -100, -100,  100,  100,  100,  100,  100,\n",
       "        100])"
      ]
     },
     "execution_count": 99,
     "metadata": {},
     "output_type": "execute_result"
    }
   ],
   "source": [
    "np.where(where_np>5,100,-100) # np.where(조건, True, False)"
   ]
  },
  {
   "cell_type": "code",
   "execution_count": 100,
   "id": "current-action",
   "metadata": {},
   "outputs": [
    {
     "data": {
      "text/plain": [
       "(array([ 6,  7,  8,  9, 10, 11], dtype=int64),)"
      ]
     },
     "execution_count": 100,
     "metadata": {},
     "output_type": "execute_result"
    }
   ],
   "source": [
    "np.where(where_np>5) #조건만 명"
   ]
  }
 ],
 "metadata": {
  "kernelspec": {
   "display_name": "Python 3",
   "language": "python",
   "name": "python3"
  }
 },
 "nbformat": 4,
 "nbformat_minor": 5
}
